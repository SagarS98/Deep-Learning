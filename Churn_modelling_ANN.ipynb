{
 "cells": [
  {
   "cell_type": "code",
   "execution_count": 1,
   "metadata": {},
   "outputs": [],
   "source": [
    "# Import Libraries\n",
    "\n",
    "import pandas as pd\n",
    "import numpy as np\n",
    "import tensorflow as tf\n",
    "from tensorflow import keras\n"
   ]
  },
  {
   "cell_type": "code",
   "execution_count": 2,
   "metadata": {},
   "outputs": [
    {
     "data": {
      "text/plain": [
       "(10000, 14)"
      ]
     },
     "execution_count": 2,
     "metadata": {},
     "output_type": "execute_result"
    }
   ],
   "source": [
    "# Import the dataset\n",
    "\n",
    "data = pd.read_csv('Churn_Modelling.csv')\n",
    "data.shape\n"
   ]
  },
  {
   "cell_type": "code",
   "execution_count": 3,
   "metadata": {},
   "outputs": [
    {
     "data": {
      "text/html": [
       "<div>\n",
       "<style scoped>\n",
       "    .dataframe tbody tr th:only-of-type {\n",
       "        vertical-align: middle;\n",
       "    }\n",
       "\n",
       "    .dataframe tbody tr th {\n",
       "        vertical-align: top;\n",
       "    }\n",
       "\n",
       "    .dataframe thead th {\n",
       "        text-align: right;\n",
       "    }\n",
       "</style>\n",
       "<table border=\"1\" class=\"dataframe\">\n",
       "  <thead>\n",
       "    <tr style=\"text-align: right;\">\n",
       "      <th></th>\n",
       "      <th>RowNumber</th>\n",
       "      <th>CustomerId</th>\n",
       "      <th>Surname</th>\n",
       "      <th>CreditScore</th>\n",
       "      <th>Geography</th>\n",
       "      <th>Gender</th>\n",
       "      <th>Age</th>\n",
       "      <th>Tenure</th>\n",
       "      <th>Balance</th>\n",
       "      <th>NumOfProducts</th>\n",
       "      <th>HasCrCard</th>\n",
       "      <th>IsActiveMember</th>\n",
       "      <th>EstimatedSalary</th>\n",
       "      <th>Exited</th>\n",
       "    </tr>\n",
       "  </thead>\n",
       "  <tbody>\n",
       "    <tr>\n",
       "      <th>0</th>\n",
       "      <td>1</td>\n",
       "      <td>15634602</td>\n",
       "      <td>Hargrave</td>\n",
       "      <td>619</td>\n",
       "      <td>France</td>\n",
       "      <td>Female</td>\n",
       "      <td>42</td>\n",
       "      <td>2</td>\n",
       "      <td>0.00</td>\n",
       "      <td>1</td>\n",
       "      <td>1</td>\n",
       "      <td>1</td>\n",
       "      <td>101348.88</td>\n",
       "      <td>1</td>\n",
       "    </tr>\n",
       "    <tr>\n",
       "      <th>1</th>\n",
       "      <td>2</td>\n",
       "      <td>15647311</td>\n",
       "      <td>Hill</td>\n",
       "      <td>608</td>\n",
       "      <td>Spain</td>\n",
       "      <td>Female</td>\n",
       "      <td>41</td>\n",
       "      <td>1</td>\n",
       "      <td>83807.86</td>\n",
       "      <td>1</td>\n",
       "      <td>0</td>\n",
       "      <td>1</td>\n",
       "      <td>112542.58</td>\n",
       "      <td>0</td>\n",
       "    </tr>\n",
       "    <tr>\n",
       "      <th>2</th>\n",
       "      <td>3</td>\n",
       "      <td>15619304</td>\n",
       "      <td>Onio</td>\n",
       "      <td>502</td>\n",
       "      <td>France</td>\n",
       "      <td>Female</td>\n",
       "      <td>42</td>\n",
       "      <td>8</td>\n",
       "      <td>159660.80</td>\n",
       "      <td>3</td>\n",
       "      <td>1</td>\n",
       "      <td>0</td>\n",
       "      <td>113931.57</td>\n",
       "      <td>1</td>\n",
       "    </tr>\n",
       "    <tr>\n",
       "      <th>3</th>\n",
       "      <td>4</td>\n",
       "      <td>15701354</td>\n",
       "      <td>Boni</td>\n",
       "      <td>699</td>\n",
       "      <td>France</td>\n",
       "      <td>Female</td>\n",
       "      <td>39</td>\n",
       "      <td>1</td>\n",
       "      <td>0.00</td>\n",
       "      <td>2</td>\n",
       "      <td>0</td>\n",
       "      <td>0</td>\n",
       "      <td>93826.63</td>\n",
       "      <td>0</td>\n",
       "    </tr>\n",
       "    <tr>\n",
       "      <th>4</th>\n",
       "      <td>5</td>\n",
       "      <td>15737888</td>\n",
       "      <td>Mitchell</td>\n",
       "      <td>850</td>\n",
       "      <td>Spain</td>\n",
       "      <td>Female</td>\n",
       "      <td>43</td>\n",
       "      <td>2</td>\n",
       "      <td>125510.82</td>\n",
       "      <td>1</td>\n",
       "      <td>1</td>\n",
       "      <td>1</td>\n",
       "      <td>79084.10</td>\n",
       "      <td>0</td>\n",
       "    </tr>\n",
       "  </tbody>\n",
       "</table>\n",
       "</div>"
      ],
      "text/plain": [
       "   RowNumber  CustomerId   Surname  CreditScore Geography  Gender  Age  \\\n",
       "0          1    15634602  Hargrave          619    France  Female   42   \n",
       "1          2    15647311      Hill          608     Spain  Female   41   \n",
       "2          3    15619304      Onio          502    France  Female   42   \n",
       "3          4    15701354      Boni          699    France  Female   39   \n",
       "4          5    15737888  Mitchell          850     Spain  Female   43   \n",
       "\n",
       "   Tenure    Balance  NumOfProducts  HasCrCard  IsActiveMember  \\\n",
       "0       2       0.00              1          1               1   \n",
       "1       1   83807.86              1          0               1   \n",
       "2       8  159660.80              3          1               0   \n",
       "3       1       0.00              2          0               0   \n",
       "4       2  125510.82              1          1               1   \n",
       "\n",
       "   EstimatedSalary  Exited  \n",
       "0        101348.88       1  \n",
       "1        112542.58       0  \n",
       "2        113931.57       1  \n",
       "3         93826.63       0  \n",
       "4         79084.10       0  "
      ]
     },
     "execution_count": 3,
     "metadata": {},
     "output_type": "execute_result"
    }
   ],
   "source": [
    "data.head()"
   ]
  },
  {
   "cell_type": "code",
   "execution_count": 4,
   "metadata": {},
   "outputs": [
    {
     "data": {
      "text/plain": [
       "Index(['RowNumber', 'CustomerId', 'Surname', 'CreditScore', 'Geography',\n",
       "       'Gender', 'Age', 'Tenure', 'Balance', 'NumOfProducts', 'HasCrCard',\n",
       "       'IsActiveMember', 'EstimatedSalary', 'Exited'],\n",
       "      dtype='object')"
      ]
     },
     "execution_count": 4,
     "metadata": {},
     "output_type": "execute_result"
    }
   ],
   "source": [
    "data.columns"
   ]
  },
  {
   "cell_type": "code",
   "execution_count": 5,
   "metadata": {},
   "outputs": [],
   "source": [
    "X = data.iloc[:,3:13]\n",
    "y = data.iloc[:,-1]"
   ]
  },
  {
   "cell_type": "code",
   "execution_count": 6,
   "metadata": {},
   "outputs": [
    {
     "data": {
      "text/plain": [
       "((10000, 10), (10000,))"
      ]
     },
     "execution_count": 6,
     "metadata": {},
     "output_type": "execute_result"
    }
   ],
   "source": [
    "X.shape , y.shape"
   ]
  },
  {
   "cell_type": "code",
   "execution_count": 7,
   "metadata": {
    "scrolled": true
   },
   "outputs": [
    {
     "name": "stdout",
     "output_type": "stream",
     "text": [
      "<class 'pandas.core.frame.DataFrame'>\n",
      "RangeIndex: 10000 entries, 0 to 9999\n",
      "Data columns (total 14 columns):\n",
      " #   Column           Non-Null Count  Dtype  \n",
      "---  ------           --------------  -----  \n",
      " 0   RowNumber        10000 non-null  int64  \n",
      " 1   CustomerId       10000 non-null  int64  \n",
      " 2   Surname          10000 non-null  object \n",
      " 3   CreditScore      10000 non-null  int64  \n",
      " 4   Geography        10000 non-null  object \n",
      " 5   Gender           10000 non-null  object \n",
      " 6   Age              10000 non-null  int64  \n",
      " 7   Tenure           10000 non-null  int64  \n",
      " 8   Balance          10000 non-null  float64\n",
      " 9   NumOfProducts    10000 non-null  int64  \n",
      " 10  HasCrCard        10000 non-null  int64  \n",
      " 11  IsActiveMember   10000 non-null  int64  \n",
      " 12  EstimatedSalary  10000 non-null  float64\n",
      " 13  Exited           10000 non-null  int64  \n",
      "dtypes: float64(2), int64(9), object(3)\n",
      "memory usage: 1.1+ MB\n"
     ]
    }
   ],
   "source": [
    "data.info()"
   ]
  },
  {
   "cell_type": "code",
   "execution_count": 8,
   "metadata": {},
   "outputs": [],
   "source": [
    "# Creating dummy variables for the categorical columns(Gender,Geography)\n",
    "\n",
    "geography = pd.get_dummies(X['Geography'], drop_first=True)\n",
    "gender = pd.get_dummies(X['Gender'], drop_first=True)"
   ]
  },
  {
   "cell_type": "code",
   "execution_count": 9,
   "metadata": {},
   "outputs": [],
   "source": [
    "# Concatenate the dummy columns\n",
    "X = pd.concat([X,geography,gender], axis =1)"
   ]
  },
  {
   "cell_type": "code",
   "execution_count": 10,
   "metadata": {},
   "outputs": [],
   "source": [
    "# Drop the original columns\n",
    "X = X.drop(['Geography', 'Gender'], axis =1)"
   ]
  },
  {
   "cell_type": "code",
   "execution_count": 11,
   "metadata": {},
   "outputs": [],
   "source": [
    "# Train/Test Split\n",
    "from sklearn.model_selection import train_test_split\n",
    "X_train, X_test , y_train, y_test = train_test_split(X,y, test_size=0.2, random_state = 69)"
   ]
  },
  {
   "cell_type": "code",
   "execution_count": 12,
   "metadata": {},
   "outputs": [
    {
     "data": {
      "text/plain": [
       "(8000, 11)"
      ]
     },
     "execution_count": 12,
     "metadata": {},
     "output_type": "execute_result"
    }
   ],
   "source": [
    "X_train.shape"
   ]
  },
  {
   "cell_type": "code",
   "execution_count": 13,
   "metadata": {},
   "outputs": [],
   "source": [
    "# Standardization\n",
    "from sklearn.preprocessing import StandardScaler\n",
    "scaler = StandardScaler()\n",
    "X_train = scaler.fit_transform(X_train)\n",
    "X_test = scaler.transform(X_test)"
   ]
  },
  {
   "cell_type": "code",
   "execution_count": 14,
   "metadata": {},
   "outputs": [],
   "source": [
    "from tensorflow.keras.models import Sequential"
   ]
  },
  {
   "cell_type": "code",
   "execution_count": 15,
   "metadata": {},
   "outputs": [],
   "source": [
    "model = Sequential()"
   ]
  },
  {
   "cell_type": "code",
   "execution_count": 16,
   "metadata": {},
   "outputs": [],
   "source": [
    "# Adding the first hidden layer with 10 nodes and 'relu'activation\n",
    "model.add(keras.layers.Dense(4, activation = 'relu', input_dim = 11))\n",
    "\n",
    "# Adding the second hidden layer with 6 nodes and 'relu' activation\n",
    "model.add(keras.layers.Dense(4, activation='relu'))\n",
    "\n",
    "# Adding the output layer with 1 node and 'sigmoid' activation (binary classification problem)\n",
    "model.add(keras.layers.Dense(1, activation ='sigmoid'))"
   ]
  },
  {
   "cell_type": "code",
   "execution_count": 17,
   "metadata": {},
   "outputs": [],
   "source": [
    "model.compile('adam', loss='binary_crossentropy', metrics=['accuracy'])"
   ]
  },
  {
   "cell_type": "code",
   "execution_count": 18,
   "metadata": {
    "scrolled": true
   },
   "outputs": [
    {
     "name": "stdout",
     "output_type": "stream",
     "text": [
      "Epoch 1/100\n",
      "560/560 [==============================] - 1s 1ms/step - loss: 0.5272 - accuracy: 0.8036 - val_loss: 0.4997 - val_accuracy: 0.7858\n",
      "Epoch 2/100\n",
      "560/560 [==============================] - 1s 1ms/step - loss: 0.4655 - accuracy: 0.8034 - val_loss: 0.4658 - val_accuracy: 0.7858\n",
      "Epoch 3/100\n",
      "560/560 [==============================] - 1s 1ms/step - loss: 0.4404 - accuracy: 0.8036 - val_loss: 0.4453 - val_accuracy: 0.7887\n",
      "Epoch 4/100\n",
      "560/560 [==============================] - 1s 1ms/step - loss: 0.4223 - accuracy: 0.8084 - val_loss: 0.4299 - val_accuracy: 0.8000\n",
      "Epoch 5/100\n",
      "560/560 [==============================] - 1s 1ms/step - loss: 0.4080 - accuracy: 0.8141 - val_loss: 0.4186 - val_accuracy: 0.8062\n",
      "Epoch 6/100\n",
      "560/560 [==============================] - 1s 1ms/step - loss: 0.3967 - accuracy: 0.8161 - val_loss: 0.4107 - val_accuracy: 0.8079\n",
      "Epoch 7/100\n",
      "560/560 [==============================] - 1s 1ms/step - loss: 0.3878 - accuracy: 0.8209 - val_loss: 0.4032 - val_accuracy: 0.8142\n",
      "Epoch 8/100\n",
      "560/560 [==============================] - 1s 1ms/step - loss: 0.3808 - accuracy: 0.8232 - val_loss: 0.3979 - val_accuracy: 0.8175\n",
      "Epoch 9/100\n",
      "560/560 [==============================] - 1s 1ms/step - loss: 0.3744 - accuracy: 0.8268 - val_loss: 0.3922 - val_accuracy: 0.8217\n",
      "Epoch 10/100\n",
      "560/560 [==============================] - 1s 1ms/step - loss: 0.3684 - accuracy: 0.8338 - val_loss: 0.3865 - val_accuracy: 0.8258\n",
      "Epoch 11/100\n",
      "560/560 [==============================] - 1s 1ms/step - loss: 0.3631 - accuracy: 0.8393 - val_loss: 0.3828 - val_accuracy: 0.8333\n",
      "Epoch 12/100\n",
      "560/560 [==============================] - 1s 1ms/step - loss: 0.3584 - accuracy: 0.8471 - val_loss: 0.3806 - val_accuracy: 0.8383\n",
      "Epoch 13/100\n",
      "560/560 [==============================] - 1s 1ms/step - loss: 0.3546 - accuracy: 0.8529 - val_loss: 0.3752 - val_accuracy: 0.8438\n",
      "Epoch 14/100\n",
      "560/560 [==============================] - 1s 1ms/step - loss: 0.3511 - accuracy: 0.8543 - val_loss: 0.3743 - val_accuracy: 0.8429\n",
      "Epoch 15/100\n",
      "560/560 [==============================] - 1s 1ms/step - loss: 0.3485 - accuracy: 0.8575 - val_loss: 0.3712 - val_accuracy: 0.8467\n",
      "Epoch 16/100\n",
      "560/560 [==============================] - 1s 1ms/step - loss: 0.3466 - accuracy: 0.8541 - val_loss: 0.3680 - val_accuracy: 0.8462\n",
      "Epoch 17/100\n",
      "560/560 [==============================] - 1s 1ms/step - loss: 0.3446 - accuracy: 0.8561 - val_loss: 0.3670 - val_accuracy: 0.8454\n",
      "Epoch 18/100\n",
      "560/560 [==============================] - 1s 1ms/step - loss: 0.3426 - accuracy: 0.8604 - val_loss: 0.3643 - val_accuracy: 0.8492\n",
      "Epoch 19/100\n",
      "560/560 [==============================] - 1s 1ms/step - loss: 0.3414 - accuracy: 0.8573 - val_loss: 0.3627 - val_accuracy: 0.8525\n",
      "Epoch 20/100\n",
      "560/560 [==============================] - 1s 1ms/step - loss: 0.3397 - accuracy: 0.8618 - val_loss: 0.3622 - val_accuracy: 0.8500\n",
      "Epoch 21/100\n",
      "560/560 [==============================] - 1s 1ms/step - loss: 0.3390 - accuracy: 0.8636 - val_loss: 0.3617 - val_accuracy: 0.8525\n",
      "Epoch 22/100\n",
      "560/560 [==============================] - 1s 1ms/step - loss: 0.3376 - accuracy: 0.8643 - val_loss: 0.3587 - val_accuracy: 0.8533\n",
      "Epoch 23/100\n",
      "560/560 [==============================] - 1s 1ms/step - loss: 0.3368 - accuracy: 0.8627 - val_loss: 0.3591 - val_accuracy: 0.8562\n",
      "Epoch 24/100\n",
      "560/560 [==============================] - 1s 1ms/step - loss: 0.3359 - accuracy: 0.8627 - val_loss: 0.3592 - val_accuracy: 0.8546\n",
      "Epoch 25/100\n",
      "560/560 [==============================] - 1s 1ms/step - loss: 0.3352 - accuracy: 0.8611 - val_loss: 0.3578 - val_accuracy: 0.8546\n",
      "Epoch 26/100\n",
      "560/560 [==============================] - 1s 1ms/step - loss: 0.3349 - accuracy: 0.8637 - val_loss: 0.3568 - val_accuracy: 0.8537\n",
      "Epoch 27/100\n",
      "560/560 [==============================] - 1s 1ms/step - loss: 0.3335 - accuracy: 0.8636 - val_loss: 0.3586 - val_accuracy: 0.8550\n",
      "Epoch 28/100\n",
      "560/560 [==============================] - 1s 1ms/step - loss: 0.3332 - accuracy: 0.8643 - val_loss: 0.3574 - val_accuracy: 0.8512\n",
      "Epoch 29/100\n",
      "560/560 [==============================] - 1s 1ms/step - loss: 0.3332 - accuracy: 0.8645 - val_loss: 0.3601 - val_accuracy: 0.8542\n",
      "Epoch 30/100\n",
      "560/560 [==============================] - 1s 1ms/step - loss: 0.3323 - accuracy: 0.8655 - val_loss: 0.3580 - val_accuracy: 0.8529\n",
      "Epoch 31/100\n",
      "560/560 [==============================] - 1s 1ms/step - loss: 0.3334 - accuracy: 0.8655 - val_loss: 0.3559 - val_accuracy: 0.8533\n",
      "Epoch 32/100\n",
      "560/560 [==============================] - 1s 1ms/step - loss: 0.3326 - accuracy: 0.8655 - val_loss: 0.3558 - val_accuracy: 0.8579\n",
      "Epoch 33/100\n",
      "560/560 [==============================] - 1s 1ms/step - loss: 0.3324 - accuracy: 0.8637 - val_loss: 0.3558 - val_accuracy: 0.8546\n",
      "Epoch 34/100\n",
      "560/560 [==============================] - 1s 1ms/step - loss: 0.3318 - accuracy: 0.8652 - val_loss: 0.3565 - val_accuracy: 0.8550\n",
      "Epoch 35/100\n",
      "560/560 [==============================] - 1s 1ms/step - loss: 0.3314 - accuracy: 0.8654 - val_loss: 0.3577 - val_accuracy: 0.8537\n",
      "Epoch 36/100\n",
      "560/560 [==============================] - 1s 1ms/step - loss: 0.3319 - accuracy: 0.8645 - val_loss: 0.3576 - val_accuracy: 0.8533\n",
      "Epoch 37/100\n",
      "560/560 [==============================] - 1s 1ms/step - loss: 0.3309 - accuracy: 0.8670 - val_loss: 0.3554 - val_accuracy: 0.8571\n",
      "Epoch 38/100\n",
      "560/560 [==============================] - 1s 1ms/step - loss: 0.3310 - accuracy: 0.8661 - val_loss: 0.3558 - val_accuracy: 0.8571\n",
      "Epoch 39/100\n",
      "560/560 [==============================] - 1s 1ms/step - loss: 0.3305 - accuracy: 0.8662 - val_loss: 0.3580 - val_accuracy: 0.8550\n",
      "Epoch 40/100\n",
      "560/560 [==============================] - 1s 1ms/step - loss: 0.3307 - accuracy: 0.8646 - val_loss: 0.3553 - val_accuracy: 0.8550\n",
      "Epoch 41/100\n",
      "560/560 [==============================] - 1s 1ms/step - loss: 0.3303 - accuracy: 0.8648 - val_loss: 0.3555 - val_accuracy: 0.8562\n",
      "Epoch 42/100\n",
      "560/560 [==============================] - 1s 1ms/step - loss: 0.3307 - accuracy: 0.8670 - val_loss: 0.3553 - val_accuracy: 0.8546\n",
      "Epoch 43/100\n",
      "560/560 [==============================] - 1s 1ms/step - loss: 0.3307 - accuracy: 0.8639 - val_loss: 0.3547 - val_accuracy: 0.8562\n",
      "Epoch 44/100\n",
      "560/560 [==============================] - 1s 1ms/step - loss: 0.3310 - accuracy: 0.8652 - val_loss: 0.3547 - val_accuracy: 0.8571\n",
      "Epoch 45/100\n",
      "560/560 [==============================] - 1s 1ms/step - loss: 0.3302 - accuracy: 0.8650 - val_loss: 0.3547 - val_accuracy: 0.8558\n",
      "Epoch 46/100\n",
      "560/560 [==============================] - 1s 1ms/step - loss: 0.3304 - accuracy: 0.8652 - val_loss: 0.3561 - val_accuracy: 0.8571\n",
      "Epoch 47/100\n",
      "560/560 [==============================] - 1s 1ms/step - loss: 0.3304 - accuracy: 0.8670 - val_loss: 0.3564 - val_accuracy: 0.8550\n",
      "Epoch 48/100\n",
      "560/560 [==============================] - 1s 1ms/step - loss: 0.3301 - accuracy: 0.8654 - val_loss: 0.3582 - val_accuracy: 0.8537\n",
      "Epoch 49/100\n",
      "560/560 [==============================] - 1s 1ms/step - loss: 0.3301 - accuracy: 0.8627 - val_loss: 0.3564 - val_accuracy: 0.8562\n",
      "Epoch 50/100\n",
      "560/560 [==============================] - 1s 1ms/step - loss: 0.3302 - accuracy: 0.8673 - val_loss: 0.3542 - val_accuracy: 0.8575\n",
      "Epoch 51/100\n",
      "560/560 [==============================] - 1s 1ms/step - loss: 0.3298 - accuracy: 0.8689 - val_loss: 0.3541 - val_accuracy: 0.8550\n",
      "Epoch 52/100\n",
      "560/560 [==============================] - 1s 1ms/step - loss: 0.3294 - accuracy: 0.8661 - val_loss: 0.3550 - val_accuracy: 0.8567\n",
      "Epoch 53/100\n",
      "560/560 [==============================] - 1s 1ms/step - loss: 0.3294 - accuracy: 0.8657 - val_loss: 0.3558 - val_accuracy: 0.8579\n",
      "Epoch 54/100\n",
      "560/560 [==============================] - 1s 1ms/step - loss: 0.3296 - accuracy: 0.8673 - val_loss: 0.3578 - val_accuracy: 0.8558\n",
      "Epoch 55/100\n",
      "560/560 [==============================] - 1s 1ms/step - loss: 0.3298 - accuracy: 0.8666 - val_loss: 0.3544 - val_accuracy: 0.8537\n",
      "Epoch 56/100\n",
      "560/560 [==============================] - 1s 1ms/step - loss: 0.3296 - accuracy: 0.8673 - val_loss: 0.3549 - val_accuracy: 0.8579\n",
      "Epoch 57/100\n",
      "560/560 [==============================] - 1s 1ms/step - loss: 0.3292 - accuracy: 0.8668 - val_loss: 0.3546 - val_accuracy: 0.8558\n"
     ]
    },
    {
     "name": "stdout",
     "output_type": "stream",
     "text": [
      "Epoch 58/100\n",
      "560/560 [==============================] - 1s 1ms/step - loss: 0.3294 - accuracy: 0.8675 - val_loss: 0.3550 - val_accuracy: 0.8579\n",
      "Epoch 59/100\n",
      "560/560 [==============================] - 1s 1ms/step - loss: 0.3290 - accuracy: 0.8639 - val_loss: 0.3543 - val_accuracy: 0.8554\n",
      "Epoch 60/100\n",
      "560/560 [==============================] - 1s 1ms/step - loss: 0.3291 - accuracy: 0.8670 - val_loss: 0.3525 - val_accuracy: 0.8579\n",
      "Epoch 61/100\n",
      "560/560 [==============================] - 1s 1ms/step - loss: 0.3291 - accuracy: 0.8654 - val_loss: 0.3543 - val_accuracy: 0.8567\n",
      "Epoch 62/100\n",
      "560/560 [==============================] - 1s 1ms/step - loss: 0.3293 - accuracy: 0.8664 - val_loss: 0.3553 - val_accuracy: 0.8558\n",
      "Epoch 63/100\n",
      "560/560 [==============================] - 1s 1ms/step - loss: 0.3287 - accuracy: 0.8657 - val_loss: 0.3529 - val_accuracy: 0.8579\n",
      "Epoch 64/100\n",
      "560/560 [==============================] - 1s 1ms/step - loss: 0.3282 - accuracy: 0.8652 - val_loss: 0.3531 - val_accuracy: 0.8592\n",
      "Epoch 65/100\n",
      "560/560 [==============================] - 1s 1ms/step - loss: 0.3290 - accuracy: 0.8639 - val_loss: 0.3528 - val_accuracy: 0.8562\n",
      "Epoch 66/100\n",
      "560/560 [==============================] - 1s 1ms/step - loss: 0.3286 - accuracy: 0.8679 - val_loss: 0.3540 - val_accuracy: 0.8546\n",
      "Epoch 67/100\n",
      "560/560 [==============================] - 1s 1ms/step - loss: 0.3285 - accuracy: 0.8673 - val_loss: 0.3556 - val_accuracy: 0.8567\n",
      "Epoch 68/100\n",
      "560/560 [==============================] - 1s 1ms/step - loss: 0.3279 - accuracy: 0.8650 - val_loss: 0.3540 - val_accuracy: 0.8583\n",
      "Epoch 69/100\n",
      "560/560 [==============================] - 1s 1ms/step - loss: 0.3287 - accuracy: 0.8659 - val_loss: 0.3533 - val_accuracy: 0.8567\n",
      "Epoch 70/100\n",
      "560/560 [==============================] - 1s 1ms/step - loss: 0.3282 - accuracy: 0.8662 - val_loss: 0.3530 - val_accuracy: 0.8579\n",
      "Epoch 71/100\n",
      "560/560 [==============================] - 1s 1ms/step - loss: 0.3276 - accuracy: 0.8693 - val_loss: 0.3520 - val_accuracy: 0.8583\n",
      "Epoch 72/100\n",
      "560/560 [==============================] - 1s 1ms/step - loss: 0.3280 - accuracy: 0.8664 - val_loss: 0.3520 - val_accuracy: 0.8596\n",
      "Epoch 73/100\n",
      "560/560 [==============================] - 1s 1ms/step - loss: 0.3278 - accuracy: 0.8687 - val_loss: 0.3524 - val_accuracy: 0.8542\n",
      "Epoch 74/100\n",
      "560/560 [==============================] - 1s 1ms/step - loss: 0.3277 - accuracy: 0.8661 - val_loss: 0.3544 - val_accuracy: 0.8567\n",
      "Epoch 75/100\n",
      "560/560 [==============================] - 1s 1ms/step - loss: 0.3281 - accuracy: 0.8675 - val_loss: 0.3518 - val_accuracy: 0.8575\n",
      "Epoch 76/100\n",
      "560/560 [==============================] - 1s 1ms/step - loss: 0.3278 - accuracy: 0.8673 - val_loss: 0.3513 - val_accuracy: 0.8583\n",
      "Epoch 77/100\n",
      "560/560 [==============================] - 1s 1ms/step - loss: 0.3279 - accuracy: 0.8673 - val_loss: 0.3517 - val_accuracy: 0.8554\n",
      "Epoch 78/100\n",
      "560/560 [==============================] - 1s 1ms/step - loss: 0.3280 - accuracy: 0.8668 - val_loss: 0.3504 - val_accuracy: 0.8562\n",
      "Epoch 79/100\n",
      "560/560 [==============================] - 1s 1ms/step - loss: 0.3275 - accuracy: 0.8636 - val_loss: 0.3513 - val_accuracy: 0.8567\n",
      "Epoch 80/100\n",
      "560/560 [==============================] - 1s 1ms/step - loss: 0.3273 - accuracy: 0.8670 - val_loss: 0.3505 - val_accuracy: 0.8567\n",
      "Epoch 81/100\n",
      "560/560 [==============================] - 1s 2ms/step - loss: 0.3273 - accuracy: 0.8639 - val_loss: 0.3544 - val_accuracy: 0.8550\n",
      "Epoch 82/100\n",
      "560/560 [==============================] - 1s 2ms/step - loss: 0.3274 - accuracy: 0.8659 - val_loss: 0.3508 - val_accuracy: 0.8575\n",
      "Epoch 83/100\n",
      "560/560 [==============================] - 1s 1ms/step - loss: 0.3273 - accuracy: 0.8650 - val_loss: 0.3516 - val_accuracy: 0.8575\n",
      "Epoch 84/100\n",
      "560/560 [==============================] - 1s 1ms/step - loss: 0.3270 - accuracy: 0.8650 - val_loss: 0.3513 - val_accuracy: 0.8537\n",
      "Epoch 85/100\n",
      "560/560 [==============================] - 1s 1ms/step - loss: 0.3265 - accuracy: 0.8668 - val_loss: 0.3507 - val_accuracy: 0.8571\n",
      "Epoch 86/100\n",
      "560/560 [==============================] - 1s 1ms/step - loss: 0.3271 - accuracy: 0.8659 - val_loss: 0.3514 - val_accuracy: 0.8562\n",
      "Epoch 87/100\n",
      "560/560 [==============================] - 1s 2ms/step - loss: 0.3264 - accuracy: 0.8670 - val_loss: 0.3505 - val_accuracy: 0.8592\n",
      "Epoch 88/100\n",
      "560/560 [==============================] - 1s 2ms/step - loss: 0.3264 - accuracy: 0.8677 - val_loss: 0.3510 - val_accuracy: 0.8546\n",
      "Epoch 89/100\n",
      "560/560 [==============================] - 1s 1ms/step - loss: 0.3264 - accuracy: 0.8632 - val_loss: 0.3513 - val_accuracy: 0.8550\n",
      "Epoch 90/100\n",
      "560/560 [==============================] - 1s 2ms/step - loss: 0.3259 - accuracy: 0.8671 - val_loss: 0.3515 - val_accuracy: 0.8592\n",
      "Epoch 91/100\n",
      "560/560 [==============================] - 1s 1ms/step - loss: 0.3264 - accuracy: 0.8671 - val_loss: 0.3528 - val_accuracy: 0.8567\n",
      "Epoch 92/100\n",
      "560/560 [==============================] - 1s 1ms/step - loss: 0.3261 - accuracy: 0.8698 - val_loss: 0.3516 - val_accuracy: 0.8554\n",
      "Epoch 93/100\n",
      "560/560 [==============================] - 1s 1ms/step - loss: 0.3254 - accuracy: 0.8662 - val_loss: 0.3524 - val_accuracy: 0.8558\n",
      "Epoch 94/100\n",
      "560/560 [==============================] - 1s 1ms/step - loss: 0.3255 - accuracy: 0.8684 - val_loss: 0.3513 - val_accuracy: 0.8546\n",
      "Epoch 95/100\n",
      "560/560 [==============================] - 1s 1ms/step - loss: 0.3257 - accuracy: 0.8662 - val_loss: 0.3517 - val_accuracy: 0.8546\n",
      "Epoch 96/100\n",
      "560/560 [==============================] - 1s 1ms/step - loss: 0.3253 - accuracy: 0.8673 - val_loss: 0.3513 - val_accuracy: 0.8579\n",
      "Epoch 97/100\n",
      "560/560 [==============================] - 1s 1ms/step - loss: 0.3252 - accuracy: 0.8657 - val_loss: 0.3517 - val_accuracy: 0.8550\n",
      "Epoch 98/100\n",
      "560/560 [==============================] - 1s 1ms/step - loss: 0.3251 - accuracy: 0.8655 - val_loss: 0.3514 - val_accuracy: 0.8554\n",
      "Epoch 99/100\n",
      "560/560 [==============================] - 1s 1ms/step - loss: 0.3248 - accuracy: 0.8673 - val_loss: 0.3518 - val_accuracy: 0.8575\n",
      "Epoch 100/100\n",
      "560/560 [==============================] - 1s 1ms/step - loss: 0.3251 - accuracy: 0.8664 - val_loss: 0.3514 - val_accuracy: 0.8558\n"
     ]
    }
   ],
   "source": [
    "model_history = model.fit(X_train,y_train, validation_split = 0.3, batch_size = 10 , epochs = 100) "
   ]
  }
 ],
 "metadata": {
  "kernelspec": {
   "display_name": "Python 3",
   "language": "python",
   "name": "python3"
  },
  "language_info": {
   "codemirror_mode": {
    "name": "ipython",
    "version": 3
   },
   "file_extension": ".py",
   "mimetype": "text/x-python",
   "name": "python",
   "nbconvert_exporter": "python",
   "pygments_lexer": "ipython3",
   "version": "3.7.6"
  }
 },
 "nbformat": 4,
 "nbformat_minor": 4
}
